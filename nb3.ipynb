{
 "cells": [
  {
   "cell_type": "markdown",
   "id": "5b631087",
   "metadata": {},
   "source": [
    "# Merging of Data"
   ]
  },
  {
   "cell_type": "code",
   "execution_count": 1,
   "id": "3b5f7b29",
   "metadata": {},
   "outputs": [],
   "source": [
    "import pandas as pd"
   ]
  },
  {
   "cell_type": "code",
   "execution_count": 2,
   "id": "2f1e36da",
   "metadata": {},
   "outputs": [],
   "source": [
    "regular = pd.read_csv(\"REGULAR.csv\")\n",
    "evasive = pd.read_csv(\"TCPFlood-Evasive.csv\")\n",
    "no_defense = pd.read_csv(\"TCPFlood-NoDefense.csv\")\n",
    "reqtime = pd.read_csv(\"TCPFlood-Reqtimeout.csv\")\n",
    "sec = pd.read_csv(\"TCPFlood-Security2.csv\")"
   ]
  },
  {
   "cell_type": "code",
   "execution_count": 3,
   "id": "0c82ac41",
   "metadata": {},
   "outputs": [],
   "source": [
    "evasive['Label'] = evasive['Label'].replace({'TCPFlood-Evasive': 'TCPFlood'})\n",
    "no_defense['Label'] = no_defense['Label'].replace({'TCPFlood-NoDefense': 'TCPFlood'})\n",
    "reqtime['Label'] = no_defense['Label'].replace({'TCPFlood-Reqtimeout': 'TCPFlood'})\n",
    "sec['Label'] = no_defense['Label'].replace({'TCPFlood-Security2': 'TCPFlood'})"
   ]
  },
  {
   "cell_type": "markdown",
   "id": "fcbacfb3",
   "metadata": {},
   "source": [
    "#### checking if all the files have same columns names and len"
   ]
  },
  {
   "cell_type": "code",
   "execution_count": 4,
   "id": "3e89262b",
   "metadata": {},
   "outputs": [
    {
     "data": {
      "text/plain": [
       "array([ True,  True,  True,  True,  True,  True,  True,  True,  True,\n",
       "        True,  True,  True,  True,  True,  True,  True,  True,  True,\n",
       "        True,  True,  True,  True,  True,  True,  True,  True,  True,\n",
       "        True,  True,  True,  True,  True,  True,  True,  True,  True,\n",
       "        True,  True,  True,  True,  True,  True,  True,  True,  True,\n",
       "        True,  True,  True,  True,  True,  True,  True,  True,  True,\n",
       "        True,  True,  True,  True,  True,  True,  True,  True,  True,\n",
       "        True,  True,  True,  True,  True,  True,  True,  True,  True,\n",
       "        True,  True,  True,  True,  True,  True,  True,  True,  True,\n",
       "        True,  True,  True])"
      ]
     },
     "execution_count": 4,
     "metadata": {},
     "output_type": "execute_result"
    }
   ],
   "source": [
    "evasive.columns == regular.columns"
   ]
  },
  {
   "cell_type": "code",
   "execution_count": 5,
   "id": "0cd086d0",
   "metadata": {},
   "outputs": [
    {
     "data": {
      "text/plain": [
       "array([ True,  True,  True,  True,  True,  True,  True,  True,  True,\n",
       "        True,  True,  True,  True,  True,  True,  True,  True,  True,\n",
       "        True,  True,  True,  True,  True,  True,  True,  True,  True,\n",
       "        True,  True,  True,  True,  True,  True,  True,  True,  True,\n",
       "        True,  True,  True,  True,  True,  True,  True,  True,  True,\n",
       "        True,  True,  True,  True,  True,  True,  True,  True,  True,\n",
       "        True,  True,  True,  True,  True,  True,  True,  True,  True,\n",
       "        True,  True,  True,  True,  True,  True,  True,  True,  True,\n",
       "        True,  True,  True,  True,  True,  True,  True,  True,  True,\n",
       "        True,  True,  True])"
      ]
     },
     "execution_count": 5,
     "metadata": {},
     "output_type": "execute_result"
    }
   ],
   "source": [
    "regular.columns == no_defense.columns"
   ]
  },
  {
   "cell_type": "code",
   "execution_count": 6,
   "id": "a0540345",
   "metadata": {},
   "outputs": [
    {
     "data": {
      "text/plain": [
       "array([ True,  True,  True,  True,  True,  True,  True,  True,  True,\n",
       "        True,  True,  True,  True,  True,  True,  True,  True,  True,\n",
       "        True,  True,  True,  True,  True,  True,  True,  True,  True,\n",
       "        True,  True,  True,  True,  True,  True,  True,  True,  True,\n",
       "        True,  True,  True,  True,  True,  True,  True,  True,  True,\n",
       "        True,  True,  True,  True,  True,  True,  True,  True,  True,\n",
       "        True,  True,  True,  True,  True,  True,  True,  True,  True,\n",
       "        True,  True,  True,  True,  True,  True,  True,  True,  True,\n",
       "        True,  True,  True,  True,  True,  True,  True,  True,  True,\n",
       "        True,  True,  True])"
      ]
     },
     "execution_count": 6,
     "metadata": {},
     "output_type": "execute_result"
    }
   ],
   "source": [
    "no_defense.columns == reqtime.columns"
   ]
  },
  {
   "cell_type": "code",
   "execution_count": 7,
   "id": "9aabcc07",
   "metadata": {},
   "outputs": [
    {
     "data": {
      "text/plain": [
       "array([ True,  True,  True,  True,  True,  True,  True,  True,  True,\n",
       "        True,  True,  True,  True,  True,  True,  True,  True,  True,\n",
       "        True,  True,  True,  True,  True,  True,  True,  True,  True,\n",
       "        True,  True,  True,  True,  True,  True,  True,  True,  True,\n",
       "        True,  True,  True,  True,  True,  True,  True,  True,  True,\n",
       "        True,  True,  True,  True,  True,  True,  True,  True,  True,\n",
       "        True,  True,  True,  True,  True,  True,  True,  True,  True,\n",
       "        True,  True,  True,  True,  True,  True,  True,  True,  True,\n",
       "        True,  True,  True,  True,  True,  True,  True,  True,  True,\n",
       "        True,  True,  True])"
      ]
     },
     "execution_count": 7,
     "metadata": {},
     "output_type": "execute_result"
    }
   ],
   "source": [
    "reqtime.columns == sec.columns"
   ]
  },
  {
   "cell_type": "code",
   "execution_count": 8,
   "id": "74bed1b5",
   "metadata": {},
   "outputs": [],
   "source": [
    "data = pd.concat([regular, evasive, no_defense, reqtime, sec], ignore_index = True)"
   ]
  },
  {
   "cell_type": "code",
   "execution_count": 9,
   "id": "5ad0e803",
   "metadata": {},
   "outputs": [
    {
     "data": {
      "text/html": [
       "<div>\n",
       "<style scoped>\n",
       "    .dataframe tbody tr th:only-of-type {\n",
       "        vertical-align: middle;\n",
       "    }\n",
       "\n",
       "    .dataframe tbody tr th {\n",
       "        vertical-align: top;\n",
       "    }\n",
       "\n",
       "    .dataframe thead th {\n",
       "        text-align: right;\n",
       "    }\n",
       "</style>\n",
       "<table border=\"1\" class=\"dataframe\">\n",
       "  <thead>\n",
       "    <tr style=\"text-align: right;\">\n",
       "      <th></th>\n",
       "      <th>Flow ID</th>\n",
       "      <th>Src IP</th>\n",
       "      <th>Src Port</th>\n",
       "      <th>Dst IP</th>\n",
       "      <th>Dst Port</th>\n",
       "      <th>Protocol</th>\n",
       "      <th>Timestamp</th>\n",
       "      <th>Flow Duration</th>\n",
       "      <th>Total Fwd Packet</th>\n",
       "      <th>Total Bwd packets</th>\n",
       "      <th>...</th>\n",
       "      <th>Fwd Seg Size Min</th>\n",
       "      <th>Active Mean</th>\n",
       "      <th>Active Std</th>\n",
       "      <th>Active Max</th>\n",
       "      <th>Active Min</th>\n",
       "      <th>Idle Mean</th>\n",
       "      <th>Idle Std</th>\n",
       "      <th>Idle Max</th>\n",
       "      <th>Idle Min</th>\n",
       "      <th>Label</th>\n",
       "    </tr>\n",
       "  </thead>\n",
       "  <tbody>\n",
       "    <tr>\n",
       "      <th>0</th>\n",
       "      <td>*.*.*.*-*.*.*.*-0-0-0</td>\n",
       "      <td>*.*.*.*</td>\n",
       "      <td>0</td>\n",
       "      <td>*.*.*.*</td>\n",
       "      <td>0</td>\n",
       "      <td>0</td>\n",
       "      <td>04/06/2021 09:26:53 PM</td>\n",
       "      <td>119597834</td>\n",
       "      <td>268</td>\n",
       "      <td>0</td>\n",
       "      <td>...</td>\n",
       "      <td>0</td>\n",
       "      <td>0.0</td>\n",
       "      <td>0.000000e+00</td>\n",
       "      <td>0.0</td>\n",
       "      <td>0.0</td>\n",
       "      <td>0.0</td>\n",
       "      <td>0.000000e+00</td>\n",
       "      <td>0.0</td>\n",
       "      <td>0.0</td>\n",
       "      <td>BENIGN</td>\n",
       "    </tr>\n",
       "    <tr>\n",
       "      <th>1</th>\n",
       "      <td>0.0.0.0-255.255.255.255-68-67-17</td>\n",
       "      <td>0.0.0.0</td>\n",
       "      <td>68</td>\n",
       "      <td>255.255.255.255</td>\n",
       "      <td>67</td>\n",
       "      <td>17</td>\n",
       "      <td>04/06/2021 09:26:52 PM</td>\n",
       "      <td>119255943</td>\n",
       "      <td>66</td>\n",
       "      <td>0</td>\n",
       "      <td>...</td>\n",
       "      <td>8</td>\n",
       "      <td>15575081.0</td>\n",
       "      <td>7.275798e+06</td>\n",
       "      <td>24705298.0</td>\n",
       "      <td>7259865.0</td>\n",
       "      <td>6549758.5</td>\n",
       "      <td>1.000018e+06</td>\n",
       "      <td>7676112.0</td>\n",
       "      <td>5418107.0</td>\n",
       "      <td>BENIGN</td>\n",
       "    </tr>\n",
       "    <tr>\n",
       "      <th>2</th>\n",
       "      <td>*.*.*.*-*.*.*.*-0-0-0</td>\n",
       "      <td>*.*.*.*</td>\n",
       "      <td>0</td>\n",
       "      <td>*.*.*.*</td>\n",
       "      <td>0</td>\n",
       "      <td>0</td>\n",
       "      <td>04/06/2021 09:26:54 PM</td>\n",
       "      <td>114831966</td>\n",
       "      <td>13</td>\n",
       "      <td>0</td>\n",
       "      <td>...</td>\n",
       "      <td>0</td>\n",
       "      <td>0.0</td>\n",
       "      <td>0.000000e+00</td>\n",
       "      <td>0.0</td>\n",
       "      <td>0.0</td>\n",
       "      <td>9569330.5</td>\n",
       "      <td>2.970461e+05</td>\n",
       "      <td>9975997.0</td>\n",
       "      <td>9048001.0</td>\n",
       "      <td>BENIGN</td>\n",
       "    </tr>\n",
       "    <tr>\n",
       "      <th>3</th>\n",
       "      <td>*.*.*.*-192.168.111.66-52691-22-6</td>\n",
       "      <td>*.*.*.*</td>\n",
       "      <td>52691</td>\n",
       "      <td>192.168.111.66</td>\n",
       "      <td>22</td>\n",
       "      <td>6</td>\n",
       "      <td>04/06/2021 09:26:56 PM</td>\n",
       "      <td>8502164</td>\n",
       "      <td>32</td>\n",
       "      <td>17</td>\n",
       "      <td>...</td>\n",
       "      <td>32</td>\n",
       "      <td>0.0</td>\n",
       "      <td>0.000000e+00</td>\n",
       "      <td>0.0</td>\n",
       "      <td>0.0</td>\n",
       "      <td>0.0</td>\n",
       "      <td>0.000000e+00</td>\n",
       "      <td>0.0</td>\n",
       "      <td>0.0</td>\n",
       "      <td>BENIGN</td>\n",
       "    </tr>\n",
       "    <tr>\n",
       "      <th>4</th>\n",
       "      <td>192.168.111.66-*.*.*.*-22-48426-6</td>\n",
       "      <td>192.168.111.66</td>\n",
       "      <td>22</td>\n",
       "      <td>*.*.*.*</td>\n",
       "      <td>48426</td>\n",
       "      <td>6</td>\n",
       "      <td>04/06/2021 09:26:52 PM</td>\n",
       "      <td>104788614</td>\n",
       "      <td>110</td>\n",
       "      <td>110</td>\n",
       "      <td>...</td>\n",
       "      <td>32</td>\n",
       "      <td>0.0</td>\n",
       "      <td>0.000000e+00</td>\n",
       "      <td>0.0</td>\n",
       "      <td>0.0</td>\n",
       "      <td>0.0</td>\n",
       "      <td>0.000000e+00</td>\n",
       "      <td>0.0</td>\n",
       "      <td>0.0</td>\n",
       "      <td>BENIGN</td>\n",
       "    </tr>\n",
       "  </tbody>\n",
       "</table>\n",
       "<p>5 rows × 84 columns</p>\n",
       "</div>"
      ],
      "text/plain": [
       "                             Flow ID          Src IP  Src Port  \\\n",
       "0              *.*.*.*-*.*.*.*-0-0-0         *.*.*.*         0   \n",
       "1   0.0.0.0-255.255.255.255-68-67-17         0.0.0.0        68   \n",
       "2              *.*.*.*-*.*.*.*-0-0-0         *.*.*.*         0   \n",
       "3  *.*.*.*-192.168.111.66-52691-22-6         *.*.*.*     52691   \n",
       "4  192.168.111.66-*.*.*.*-22-48426-6  192.168.111.66        22   \n",
       "\n",
       "            Dst IP  Dst Port  Protocol               Timestamp  Flow Duration  \\\n",
       "0          *.*.*.*         0         0  04/06/2021 09:26:53 PM      119597834   \n",
       "1  255.255.255.255        67        17  04/06/2021 09:26:52 PM      119255943   \n",
       "2          *.*.*.*         0         0  04/06/2021 09:26:54 PM      114831966   \n",
       "3   192.168.111.66        22         6  04/06/2021 09:26:56 PM        8502164   \n",
       "4          *.*.*.*     48426         6  04/06/2021 09:26:52 PM      104788614   \n",
       "\n",
       "   Total Fwd Packet  Total Bwd packets  ...  Fwd Seg Size Min  Active Mean  \\\n",
       "0               268                  0  ...                 0          0.0   \n",
       "1                66                  0  ...                 8   15575081.0   \n",
       "2                13                  0  ...                 0          0.0   \n",
       "3                32                 17  ...                32          0.0   \n",
       "4               110                110  ...                32          0.0   \n",
       "\n",
       "     Active Std  Active Max  Active Min  Idle Mean      Idle Std   Idle Max  \\\n",
       "0  0.000000e+00         0.0         0.0        0.0  0.000000e+00        0.0   \n",
       "1  7.275798e+06  24705298.0   7259865.0  6549758.5  1.000018e+06  7676112.0   \n",
       "2  0.000000e+00         0.0         0.0  9569330.5  2.970461e+05  9975997.0   \n",
       "3  0.000000e+00         0.0         0.0        0.0  0.000000e+00        0.0   \n",
       "4  0.000000e+00         0.0         0.0        0.0  0.000000e+00        0.0   \n",
       "\n",
       "    Idle Min   Label  \n",
       "0        0.0  BENIGN  \n",
       "1  5418107.0  BENIGN  \n",
       "2  9048001.0  BENIGN  \n",
       "3        0.0  BENIGN  \n",
       "4        0.0  BENIGN  \n",
       "\n",
       "[5 rows x 84 columns]"
      ]
     },
     "execution_count": 9,
     "metadata": {},
     "output_type": "execute_result"
    }
   ],
   "source": [
    "data.head()"
   ]
  },
  {
   "cell_type": "code",
   "execution_count": 10,
   "id": "a1323254",
   "metadata": {},
   "outputs": [
    {
     "data": {
      "text/plain": [
       "TCPFlood    1177736\n",
       "BENIGN       306079\n",
       "Name: Label, dtype: int64"
      ]
     },
     "execution_count": 10,
     "metadata": {},
     "output_type": "execute_result"
    }
   ],
   "source": [
    "data.Label.value_counts()"
   ]
  },
  {
   "cell_type": "code",
   "execution_count": 11,
   "id": "5f67f7ce",
   "metadata": {},
   "outputs": [
    {
     "name": "stdout",
     "output_type": "stream",
     "text": [
      "<class 'pandas.core.frame.DataFrame'>\n",
      "RangeIndex: 1499995 entries, 0 to 1499994\n",
      "Data columns (total 84 columns):\n",
      " #   Column                      Non-Null Count    Dtype  \n",
      "---  ------                      --------------    -----  \n",
      " 0   Flow ID                     1499995 non-null  object \n",
      " 1   Src IP                      1499995 non-null  object \n",
      " 2   Src Port                    1499995 non-null  int64  \n",
      " 3   Dst IP                      1499995 non-null  object \n",
      " 4   Dst Port                    1499995 non-null  int64  \n",
      " 5   Protocol                    1499995 non-null  int64  \n",
      " 6   Timestamp                   1499995 non-null  object \n",
      " 7   Flow Duration               1499995 non-null  int64  \n",
      " 8   Total Fwd Packet            1499995 non-null  int64  \n",
      " 9   Total Bwd packets           1499995 non-null  int64  \n",
      " 10  Total Length of Fwd Packet  1499995 non-null  float64\n",
      " 11  Total Length of Bwd Packet  1499995 non-null  float64\n",
      " 12  Fwd Packet Length Max       1499995 non-null  float64\n",
      " 13  Fwd Packet Length Min       1499995 non-null  float64\n",
      " 14  Fwd Packet Length Mean      1499995 non-null  float64\n",
      " 15  Fwd Packet Length Std       1499995 non-null  float64\n",
      " 16  Bwd Packet Length Max       1499995 non-null  float64\n",
      " 17  Bwd Packet Length Min       1499995 non-null  float64\n",
      " 18  Bwd Packet Length Mean      1499995 non-null  float64\n",
      " 19  Bwd Packet Length Std       1499995 non-null  float64\n",
      " 20  Flow Bytes/s                1499579 non-null  float64\n",
      " 21  Flow Packets/s              1499995 non-null  float64\n",
      " 22  Flow IAT Mean               1498231 non-null  float64\n",
      " 23  Flow IAT Std                1498231 non-null  float64\n",
      " 24  Flow IAT Max                1498231 non-null  float64\n",
      " 25  Flow IAT Min                1498231 non-null  float64\n",
      " 26  Fwd IAT Total               1499995 non-null  float64\n",
      " 27  Fwd IAT Mean                1499995 non-null  float64\n",
      " 28  Fwd IAT Std                 1499995 non-null  float64\n",
      " 29  Fwd IAT Max                 1499995 non-null  float64\n",
      " 30  Fwd IAT Min                 1499995 non-null  float64\n",
      " 31  Bwd IAT Total               1499995 non-null  float64\n",
      " 32  Bwd IAT Mean                1499995 non-null  float64\n",
      " 33  Bwd IAT Std                 1499995 non-null  float64\n",
      " 34  Bwd IAT Max                 1499995 non-null  float64\n",
      " 35  Bwd IAT Min                 1499995 non-null  float64\n",
      " 36  Fwd PSH Flags               1499995 non-null  int64  \n",
      " 37  Bwd PSH Flags               1499995 non-null  int64  \n",
      " 38  Fwd URG Flags               1499995 non-null  int64  \n",
      " 39  Bwd URG Flags               1499995 non-null  int64  \n",
      " 40  Fwd Header Length           1499995 non-null  int64  \n",
      " 41  Bwd Header Length           1499995 non-null  int64  \n",
      " 42  Fwd Packets/s               1499995 non-null  float64\n",
      " 43  Bwd Packets/s               1499995 non-null  float64\n",
      " 44  Packet Length Min           1499995 non-null  float64\n",
      " 45  Packet Length Max           1499995 non-null  float64\n",
      " 46  Packet Length Mean          1499995 non-null  float64\n",
      " 47  Packet Length Std           1499995 non-null  float64\n",
      " 48  Packet Length Variance      1499995 non-null  float64\n",
      " 49  FIN Flag Count              1499995 non-null  int64  \n",
      " 50  SYN Flag Count              1499995 non-null  int64  \n",
      " 51  RST Flag Count              1499995 non-null  int64  \n",
      " 52  PSH Flag Count              1499995 non-null  int64  \n",
      " 53  ACK Flag Count              1499995 non-null  int64  \n",
      " 54  URG Flag Count              1499995 non-null  int64  \n",
      " 55  CWR Flag Count              1499995 non-null  int64  \n",
      " 56  ECE Flag Count              1499995 non-null  int64  \n",
      " 57  Down/Up Ratio               1499995 non-null  float64\n",
      " 58  Average Packet Size         1499995 non-null  float64\n",
      " 59  Fwd Segment Size Avg        1499995 non-null  float64\n",
      " 60  Bwd Segment Size Avg        1499995 non-null  float64\n",
      " 61  Fwd Bytes/Bulk Avg          1499995 non-null  int64  \n",
      " 62  Fwd Packet/Bulk Avg         1499995 non-null  int64  \n",
      " 63  Fwd Bulk Rate Avg           1499995 non-null  int64  \n",
      " 64  Bwd Bytes/Bulk Avg          1499995 non-null  int64  \n",
      " 65  Bwd Packet/Bulk Avg         1499995 non-null  int64  \n",
      " 66  Bwd Bulk Rate Avg           1499995 non-null  int64  \n",
      " 67  Subflow Fwd Packets         1499995 non-null  int64  \n",
      " 68  Subflow Fwd Bytes           1499995 non-null  int64  \n",
      " 69  Subflow Bwd Packets         1499995 non-null  int64  \n",
      " 70  Subflow Bwd Bytes           1499995 non-null  int64  \n",
      " 71  FWD Init Win Bytes          1499995 non-null  int64  \n",
      " 72  Bwd Init Win Bytes          1499995 non-null  int64  \n",
      " 73  Fwd Act Data Pkts           1499995 non-null  int64  \n",
      " 74  Fwd Seg Size Min            1499995 non-null  int64  \n",
      " 75  Active Mean                 1499995 non-null  float64\n",
      " 76  Active Std                  1499995 non-null  float64\n",
      " 77  Active Max                  1499995 non-null  float64\n",
      " 78  Active Min                  1499995 non-null  float64\n",
      " 79  Idle Mean                   1499995 non-null  float64\n",
      " 80  Idle Std                    1499995 non-null  float64\n",
      " 81  Idle Max                    1499995 non-null  float64\n",
      " 82  Idle Min                    1499995 non-null  float64\n",
      " 83  Label                       1483815 non-null  object \n",
      "dtypes: float64(45), int64(34), object(5)\n",
      "memory usage: 961.3+ MB\n"
     ]
    }
   ],
   "source": [
    "data.info()"
   ]
  },
  {
   "cell_type": "code",
   "execution_count": 12,
   "id": "9f518b87",
   "metadata": {},
   "outputs": [],
   "source": [
    "data.to_csv(\"merged.csv\")"
   ]
  },
  {
   "cell_type": "markdown",
   "id": "e2c8f967",
   "metadata": {},
   "source": [
    "# Cleaning and Processing"
   ]
  },
  {
   "cell_type": "code",
   "execution_count": null,
   "id": "63e985bd",
   "metadata": {},
   "outputs": [],
   "source": [
    "data = data.dropna()"
   ]
  },
  {
   "cell_type": "code",
   "execution_count": null,
   "id": "5cbaa3fc",
   "metadata": {},
   "outputs": [],
   "source": [
    "data.info()"
   ]
  },
  {
   "cell_type": "markdown",
   "id": "446ccfd4",
   "metadata": {},
   "source": [
    "#### str/object type: so not needed"
   ]
  },
  {
   "cell_type": "code",
   "execution_count": null,
   "id": "38152898",
   "metadata": {},
   "outputs": [],
   "source": [
    "drop_cols = [\"Flow ID\", \"Src IP\", \"Src Port\", \"Dst IP\", \"Dst Port\", \"Timestamp\"]\n",
    "\n",
    "data = data.drop(columns=drop_cols)"
   ]
  },
  {
   "cell_type": "code",
   "execution_count": null,
   "id": "5a9210f4",
   "metadata": {},
   "outputs": [],
   "source": [
    "data.info()"
   ]
  },
  {
   "cell_type": "markdown",
   "id": "c8d58e69",
   "metadata": {},
   "source": [
    "#### we already have other values for them, especially mean(which is give by default for other values), so something like min/max/std is not required"
   ]
  },
  {
   "cell_type": "code",
   "execution_count": null,
   "id": "1661d664",
   "metadata": {},
   "outputs": [],
   "source": [
    "drop_more_cols = [\"Fwd Packet Length Max\", \"Fwd Packet Length Min\", \"Fwd Packet Length Std\", \\\n",
    "                  \"Bwd Packet Length Max\", \"Bwd Packet Length Min\", \"Bwd Packet Length Std\", \\\n",
    "                  \"Flow IAT Std\", \"Flow IAT Min\", \"Flow IAT Max\", \"Fwd IAT Std\", \"Fwd IAT Min\", \"Fwd IAT Max\", \\\n",
    "                  \"Bwd IAT Std\", \"Bwd IAT Min\", \"Bwd IAT Max\", \"Packet Length Min\", \"Packet Length Max\", \"Packet Length Std\", \\\n",
    "                  \"Active Std\", \"Active Max\", \"Active Min\", \"Idle Std\",\"Idle Max\",\"Idle Min\"]\n",
    "\n",
    "data = data.drop(columns=drop_more_cols)"
   ]
  },
  {
   "cell_type": "code",
   "execution_count": 17,
   "id": "364c087f",
   "metadata": {},
   "outputs": [
    {
     "name": "stdout",
     "output_type": "stream",
     "text": [
      "<class 'pandas.core.frame.DataFrame'>\n",
      "Int64Index: 1482051 entries, 0 to 1494783\n",
      "Data columns (total 54 columns):\n",
      " #   Column                      Non-Null Count    Dtype  \n",
      "---  ------                      --------------    -----  \n",
      " 0   Protocol                    1482051 non-null  int64  \n",
      " 1   Flow Duration               1482051 non-null  int64  \n",
      " 2   Total Fwd Packet            1482051 non-null  int64  \n",
      " 3   Total Bwd packets           1482051 non-null  int64  \n",
      " 4   Total Length of Fwd Packet  1482051 non-null  float64\n",
      " 5   Total Length of Bwd Packet  1482051 non-null  float64\n",
      " 6   Fwd Packet Length Mean      1482051 non-null  float64\n",
      " 7   Bwd Packet Length Mean      1482051 non-null  float64\n",
      " 8   Flow Bytes/s                1482051 non-null  float64\n",
      " 9   Flow Packets/s              1482051 non-null  float64\n",
      " 10  Flow IAT Mean               1482051 non-null  float64\n",
      " 11  Fwd IAT Total               1482051 non-null  float64\n",
      " 12  Fwd IAT Mean                1482051 non-null  float64\n",
      " 13  Bwd IAT Total               1482051 non-null  float64\n",
      " 14  Bwd IAT Mean                1482051 non-null  float64\n",
      " 15  Fwd PSH Flags               1482051 non-null  int64  \n",
      " 16  Bwd PSH Flags               1482051 non-null  int64  \n",
      " 17  Fwd URG Flags               1482051 non-null  int64  \n",
      " 18  Bwd URG Flags               1482051 non-null  int64  \n",
      " 19  Fwd Header Length           1482051 non-null  int64  \n",
      " 20  Bwd Header Length           1482051 non-null  int64  \n",
      " 21  Fwd Packets/s               1482051 non-null  float64\n",
      " 22  Bwd Packets/s               1482051 non-null  float64\n",
      " 23  Packet Length Mean          1482051 non-null  float64\n",
      " 24  Packet Length Variance      1482051 non-null  float64\n",
      " 25  FIN Flag Count              1482051 non-null  int64  \n",
      " 26  SYN Flag Count              1482051 non-null  int64  \n",
      " 27  RST Flag Count              1482051 non-null  int64  \n",
      " 28  PSH Flag Count              1482051 non-null  int64  \n",
      " 29  ACK Flag Count              1482051 non-null  int64  \n",
      " 30  URG Flag Count              1482051 non-null  int64  \n",
      " 31  CWR Flag Count              1482051 non-null  int64  \n",
      " 32  ECE Flag Count              1482051 non-null  int64  \n",
      " 33  Down/Up Ratio               1482051 non-null  float64\n",
      " 34  Average Packet Size         1482051 non-null  float64\n",
      " 35  Fwd Segment Size Avg        1482051 non-null  float64\n",
      " 36  Bwd Segment Size Avg        1482051 non-null  float64\n",
      " 37  Fwd Bytes/Bulk Avg          1482051 non-null  int64  \n",
      " 38  Fwd Packet/Bulk Avg         1482051 non-null  int64  \n",
      " 39  Fwd Bulk Rate Avg           1482051 non-null  int64  \n",
      " 40  Bwd Bytes/Bulk Avg          1482051 non-null  int64  \n",
      " 41  Bwd Packet/Bulk Avg         1482051 non-null  int64  \n",
      " 42  Bwd Bulk Rate Avg           1482051 non-null  int64  \n",
      " 43  Subflow Fwd Packets         1482051 non-null  int64  \n",
      " 44  Subflow Fwd Bytes           1482051 non-null  int64  \n",
      " 45  Subflow Bwd Packets         1482051 non-null  int64  \n",
      " 46  Subflow Bwd Bytes           1482051 non-null  int64  \n",
      " 47  FWD Init Win Bytes          1482051 non-null  int64  \n",
      " 48  Bwd Init Win Bytes          1482051 non-null  int64  \n",
      " 49  Fwd Act Data Pkts           1482051 non-null  int64  \n",
      " 50  Fwd Seg Size Min            1482051 non-null  int64  \n",
      " 51  Active Mean                 1482051 non-null  float64\n",
      " 52  Idle Mean                   1482051 non-null  float64\n",
      " 53  Label                       1482051 non-null  object \n",
      "dtypes: float64(21), int64(32), object(1)\n",
      "memory usage: 621.9+ MB\n"
     ]
    }
   ],
   "source": [
    "data.info()"
   ]
  },
  {
   "cell_type": "markdown",
   "id": "6a1bd504",
   "metadata": {},
   "source": [
    "##### (rest of feature drop by selection methods)"
   ]
  },
  {
   "cell_type": "code",
   "execution_count": 18,
   "id": "49b93431",
   "metadata": {},
   "outputs": [],
   "source": [
    "data = data.drop_duplicates()"
   ]
  },
  {
   "cell_type": "code",
   "execution_count": 19,
   "id": "6324ae63",
   "metadata": {},
   "outputs": [
    {
     "name": "stdout",
     "output_type": "stream",
     "text": [
      "<class 'pandas.core.frame.DataFrame'>\n",
      "Int64Index: 1481599 entries, 0 to 1494783\n",
      "Data columns (total 54 columns):\n",
      " #   Column                      Non-Null Count    Dtype  \n",
      "---  ------                      --------------    -----  \n",
      " 0   Protocol                    1481599 non-null  int64  \n",
      " 1   Flow Duration               1481599 non-null  int64  \n",
      " 2   Total Fwd Packet            1481599 non-null  int64  \n",
      " 3   Total Bwd packets           1481599 non-null  int64  \n",
      " 4   Total Length of Fwd Packet  1481599 non-null  float64\n",
      " 5   Total Length of Bwd Packet  1481599 non-null  float64\n",
      " 6   Fwd Packet Length Mean      1481599 non-null  float64\n",
      " 7   Bwd Packet Length Mean      1481599 non-null  float64\n",
      " 8   Flow Bytes/s                1481599 non-null  float64\n",
      " 9   Flow Packets/s              1481599 non-null  float64\n",
      " 10  Flow IAT Mean               1481599 non-null  float64\n",
      " 11  Fwd IAT Total               1481599 non-null  float64\n",
      " 12  Fwd IAT Mean                1481599 non-null  float64\n",
      " 13  Bwd IAT Total               1481599 non-null  float64\n",
      " 14  Bwd IAT Mean                1481599 non-null  float64\n",
      " 15  Fwd PSH Flags               1481599 non-null  int64  \n",
      " 16  Bwd PSH Flags               1481599 non-null  int64  \n",
      " 17  Fwd URG Flags               1481599 non-null  int64  \n",
      " 18  Bwd URG Flags               1481599 non-null  int64  \n",
      " 19  Fwd Header Length           1481599 non-null  int64  \n",
      " 20  Bwd Header Length           1481599 non-null  int64  \n",
      " 21  Fwd Packets/s               1481599 non-null  float64\n",
      " 22  Bwd Packets/s               1481599 non-null  float64\n",
      " 23  Packet Length Mean          1481599 non-null  float64\n",
      " 24  Packet Length Variance      1481599 non-null  float64\n",
      " 25  FIN Flag Count              1481599 non-null  int64  \n",
      " 26  SYN Flag Count              1481599 non-null  int64  \n",
      " 27  RST Flag Count              1481599 non-null  int64  \n",
      " 28  PSH Flag Count              1481599 non-null  int64  \n",
      " 29  ACK Flag Count              1481599 non-null  int64  \n",
      " 30  URG Flag Count              1481599 non-null  int64  \n",
      " 31  CWR Flag Count              1481599 non-null  int64  \n",
      " 32  ECE Flag Count              1481599 non-null  int64  \n",
      " 33  Down/Up Ratio               1481599 non-null  float64\n",
      " 34  Average Packet Size         1481599 non-null  float64\n",
      " 35  Fwd Segment Size Avg        1481599 non-null  float64\n",
      " 36  Bwd Segment Size Avg        1481599 non-null  float64\n",
      " 37  Fwd Bytes/Bulk Avg          1481599 non-null  int64  \n",
      " 38  Fwd Packet/Bulk Avg         1481599 non-null  int64  \n",
      " 39  Fwd Bulk Rate Avg           1481599 non-null  int64  \n",
      " 40  Bwd Bytes/Bulk Avg          1481599 non-null  int64  \n",
      " 41  Bwd Packet/Bulk Avg         1481599 non-null  int64  \n",
      " 42  Bwd Bulk Rate Avg           1481599 non-null  int64  \n",
      " 43  Subflow Fwd Packets         1481599 non-null  int64  \n",
      " 44  Subflow Fwd Bytes           1481599 non-null  int64  \n",
      " 45  Subflow Bwd Packets         1481599 non-null  int64  \n",
      " 46  Subflow Bwd Bytes           1481599 non-null  int64  \n",
      " 47  FWD Init Win Bytes          1481599 non-null  int64  \n",
      " 48  Bwd Init Win Bytes          1481599 non-null  int64  \n",
      " 49  Fwd Act Data Pkts           1481599 non-null  int64  \n",
      " 50  Fwd Seg Size Min            1481599 non-null  int64  \n",
      " 51  Active Mean                 1481599 non-null  float64\n",
      " 52  Idle Mean                   1481599 non-null  float64\n",
      " 53  Label                       1481599 non-null  object \n",
      "dtypes: float64(21), int64(32), object(1)\n",
      "memory usage: 621.7+ MB\n"
     ]
    }
   ],
   "source": [
    "data.info()"
   ]
  },
  {
   "cell_type": "code",
   "execution_count": 20,
   "id": "617a2963",
   "metadata": {},
   "outputs": [
    {
     "data": {
      "text/html": [
       "<div>\n",
       "<style scoped>\n",
       "    .dataframe tbody tr th:only-of-type {\n",
       "        vertical-align: middle;\n",
       "    }\n",
       "\n",
       "    .dataframe tbody tr th {\n",
       "        vertical-align: top;\n",
       "    }\n",
       "\n",
       "    .dataframe thead th {\n",
       "        text-align: right;\n",
       "    }\n",
       "</style>\n",
       "<table border=\"1\" class=\"dataframe\">\n",
       "  <thead>\n",
       "    <tr style=\"text-align: right;\">\n",
       "      <th></th>\n",
       "      <th>Protocol</th>\n",
       "      <th>Flow Duration</th>\n",
       "      <th>Total Fwd Packet</th>\n",
       "      <th>Total Bwd packets</th>\n",
       "      <th>Total Length of Fwd Packet</th>\n",
       "      <th>Total Length of Bwd Packet</th>\n",
       "      <th>Fwd Packet Length Mean</th>\n",
       "      <th>Bwd Packet Length Mean</th>\n",
       "      <th>Flow Bytes/s</th>\n",
       "      <th>Flow Packets/s</th>\n",
       "      <th>...</th>\n",
       "      <th>Subflow Fwd Packets</th>\n",
       "      <th>Subflow Fwd Bytes</th>\n",
       "      <th>Subflow Bwd Packets</th>\n",
       "      <th>Subflow Bwd Bytes</th>\n",
       "      <th>FWD Init Win Bytes</th>\n",
       "      <th>Bwd Init Win Bytes</th>\n",
       "      <th>Fwd Act Data Pkts</th>\n",
       "      <th>Fwd Seg Size Min</th>\n",
       "      <th>Active Mean</th>\n",
       "      <th>Idle Mean</th>\n",
       "    </tr>\n",
       "  </thead>\n",
       "  <tbody>\n",
       "    <tr>\n",
       "      <th>count</th>\n",
       "      <td>1.481599e+06</td>\n",
       "      <td>1.481599e+06</td>\n",
       "      <td>1.481599e+06</td>\n",
       "      <td>1.481599e+06</td>\n",
       "      <td>1.481599e+06</td>\n",
       "      <td>1.481599e+06</td>\n",
       "      <td>1.481599e+06</td>\n",
       "      <td>1.481599e+06</td>\n",
       "      <td>1.481599e+06</td>\n",
       "      <td>1.481599e+06</td>\n",
       "      <td>...</td>\n",
       "      <td>1.481599e+06</td>\n",
       "      <td>1.481599e+06</td>\n",
       "      <td>1481599.0</td>\n",
       "      <td>1.481599e+06</td>\n",
       "      <td>1.481599e+06</td>\n",
       "      <td>1.481599e+06</td>\n",
       "      <td>1.481599e+06</td>\n",
       "      <td>1.481599e+06</td>\n",
       "      <td>1.481599e+06</td>\n",
       "      <td>1.481599e+06</td>\n",
       "    </tr>\n",
       "    <tr>\n",
       "      <th>mean</th>\n",
       "      <td>6.007061e+00</td>\n",
       "      <td>2.410205e+06</td>\n",
       "      <td>3.410200e+01</td>\n",
       "      <td>4.005368e+01</td>\n",
       "      <td>3.433549e+02</td>\n",
       "      <td>6.824618e+04</td>\n",
       "      <td>1.376860e+01</td>\n",
       "      <td>6.545413e+02</td>\n",
       "      <td>6.105124e+04</td>\n",
       "      <td>1.727112e+03</td>\n",
       "      <td>...</td>\n",
       "      <td>4.680079e-03</td>\n",
       "      <td>7.171752e+00</td>\n",
       "      <td>0.0</td>\n",
       "      <td>3.139562e+02</td>\n",
       "      <td>2.642763e+04</td>\n",
       "      <td>2.261218e+02</td>\n",
       "      <td>1.516230e+01</td>\n",
       "      <td>3.186207e+01</td>\n",
       "      <td>4.276017e+05</td>\n",
       "      <td>1.337903e+06</td>\n",
       "    </tr>\n",
       "    <tr>\n",
       "      <th>std</th>\n",
       "      <td>5.942562e-01</td>\n",
       "      <td>1.004946e+07</td>\n",
       "      <td>6.354016e+01</td>\n",
       "      <td>1.137484e+02</td>\n",
       "      <td>6.705639e+02</td>\n",
       "      <td>3.090412e+05</td>\n",
       "      <td>1.212992e+01</td>\n",
       "      <td>1.334264e+03</td>\n",
       "      <td>1.493670e+05</td>\n",
       "      <td>1.111634e+03</td>\n",
       "      <td>...</td>\n",
       "      <td>6.825085e-02</td>\n",
       "      <td>1.195790e+01</td>\n",
       "      <td>0.0</td>\n",
       "      <td>6.430768e+02</td>\n",
       "      <td>5.568751e+03</td>\n",
       "      <td>7.678690e+01</td>\n",
       "      <td>6.958774e+00</td>\n",
       "      <td>1.994747e+00</td>\n",
       "      <td>1.710487e+06</td>\n",
       "      <td>5.483199e+06</td>\n",
       "    </tr>\n",
       "    <tr>\n",
       "      <th>min</th>\n",
       "      <td>0.000000e+00</td>\n",
       "      <td>6.700000e+01</td>\n",
       "      <td>1.000000e+00</td>\n",
       "      <td>0.000000e+00</td>\n",
       "      <td>0.000000e+00</td>\n",
       "      <td>0.000000e+00</td>\n",
       "      <td>0.000000e+00</td>\n",
       "      <td>0.000000e+00</td>\n",
       "      <td>0.000000e+00</td>\n",
       "      <td>1.670019e-02</td>\n",
       "      <td>...</td>\n",
       "      <td>0.000000e+00</td>\n",
       "      <td>0.000000e+00</td>\n",
       "      <td>0.0</td>\n",
       "      <td>0.000000e+00</td>\n",
       "      <td>0.000000e+00</td>\n",
       "      <td>0.000000e+00</td>\n",
       "      <td>0.000000e+00</td>\n",
       "      <td>0.000000e+00</td>\n",
       "      <td>0.000000e+00</td>\n",
       "      <td>0.000000e+00</td>\n",
       "    </tr>\n",
       "    <tr>\n",
       "      <th>25%</th>\n",
       "      <td>6.000000e+00</td>\n",
       "      <td>1.675900e+04</td>\n",
       "      <td>2.100000e+01</td>\n",
       "      <td>1.900000e+01</td>\n",
       "      <td>3.360000e+02</td>\n",
       "      <td>0.000000e+00</td>\n",
       "      <td>1.344000e+01</td>\n",
       "      <td>0.000000e+00</td>\n",
       "      <td>1.215630e+04</td>\n",
       "      <td>8.884151e+02</td>\n",
       "      <td>...</td>\n",
       "      <td>0.000000e+00</td>\n",
       "      <td>7.000000e+00</td>\n",
       "      <td>0.0</td>\n",
       "      <td>0.000000e+00</td>\n",
       "      <td>2.920000e+04</td>\n",
       "      <td>2.270000e+02</td>\n",
       "      <td>1.300000e+01</td>\n",
       "      <td>3.200000e+01</td>\n",
       "      <td>0.000000e+00</td>\n",
       "      <td>0.000000e+00</td>\n",
       "    </tr>\n",
       "    <tr>\n",
       "      <th>50%</th>\n",
       "      <td>6.000000e+00</td>\n",
       "      <td>2.386100e+04</td>\n",
       "      <td>2.300000e+01</td>\n",
       "      <td>2.100000e+01</td>\n",
       "      <td>3.360000e+02</td>\n",
       "      <td>0.000000e+00</td>\n",
       "      <td>1.400000e+01</td>\n",
       "      <td>0.000000e+00</td>\n",
       "      <td>1.769166e+04</td>\n",
       "      <td>1.742556e+03</td>\n",
       "      <td>...</td>\n",
       "      <td>0.000000e+00</td>\n",
       "      <td>7.000000e+00</td>\n",
       "      <td>0.0</td>\n",
       "      <td>0.000000e+00</td>\n",
       "      <td>2.920000e+04</td>\n",
       "      <td>2.270000e+02</td>\n",
       "      <td>1.800000e+01</td>\n",
       "      <td>3.200000e+01</td>\n",
       "      <td>0.000000e+00</td>\n",
       "      <td>0.000000e+00</td>\n",
       "    </tr>\n",
       "    <tr>\n",
       "      <th>75%</th>\n",
       "      <td>6.000000e+00</td>\n",
       "      <td>3.659000e+04</td>\n",
       "      <td>2.500000e+01</td>\n",
       "      <td>2.200000e+01</td>\n",
       "      <td>3.360000e+02</td>\n",
       "      <td>0.000000e+00</td>\n",
       "      <td>1.527273e+01</td>\n",
       "      <td>0.000000e+00</td>\n",
       "      <td>2.503912e+04</td>\n",
       "      <td>2.550246e+03</td>\n",
       "      <td>...</td>\n",
       "      <td>0.000000e+00</td>\n",
       "      <td>8.000000e+00</td>\n",
       "      <td>0.0</td>\n",
       "      <td>0.000000e+00</td>\n",
       "      <td>2.920000e+04</td>\n",
       "      <td>2.270000e+02</td>\n",
       "      <td>2.000000e+01</td>\n",
       "      <td>3.200000e+01</td>\n",
       "      <td>0.000000e+00</td>\n",
       "      <td>0.000000e+00</td>\n",
       "    </tr>\n",
       "    <tr>\n",
       "      <th>max</th>\n",
       "      <td>1.700000e+01</td>\n",
       "      <td>1.199999e+08</td>\n",
       "      <td>2.108000e+03</td>\n",
       "      <td>3.793000e+03</td>\n",
       "      <td>1.980800e+05</td>\n",
       "      <td>9.847985e+06</td>\n",
       "      <td>6.560000e+02</td>\n",
       "      <td>5.589957e+03</td>\n",
       "      <td>1.356551e+07</td>\n",
       "      <td>4.477612e+04</td>\n",
       "      <td>...</td>\n",
       "      <td>1.000000e+00</td>\n",
       "      <td>6.560000e+02</td>\n",
       "      <td>0.0</td>\n",
       "      <td>2.386000e+03</td>\n",
       "      <td>6.424000e+04</td>\n",
       "      <td>2.920000e+04</td>\n",
       "      <td>3.010000e+02</td>\n",
       "      <td>4.000000e+01</td>\n",
       "      <td>1.122899e+08</td>\n",
       "      <td>1.197591e+08</td>\n",
       "    </tr>\n",
       "  </tbody>\n",
       "</table>\n",
       "<p>8 rows × 53 columns</p>\n",
       "</div>"
      ],
      "text/plain": [
       "           Protocol  Flow Duration  Total Fwd Packet  Total Bwd packets  \\\n",
       "count  1.481599e+06   1.481599e+06      1.481599e+06       1.481599e+06   \n",
       "mean   6.007061e+00   2.410205e+06      3.410200e+01       4.005368e+01   \n",
       "std    5.942562e-01   1.004946e+07      6.354016e+01       1.137484e+02   \n",
       "min    0.000000e+00   6.700000e+01      1.000000e+00       0.000000e+00   \n",
       "25%    6.000000e+00   1.675900e+04      2.100000e+01       1.900000e+01   \n",
       "50%    6.000000e+00   2.386100e+04      2.300000e+01       2.100000e+01   \n",
       "75%    6.000000e+00   3.659000e+04      2.500000e+01       2.200000e+01   \n",
       "max    1.700000e+01   1.199999e+08      2.108000e+03       3.793000e+03   \n",
       "\n",
       "       Total Length of Fwd Packet  Total Length of Bwd Packet  \\\n",
       "count                1.481599e+06                1.481599e+06   \n",
       "mean                 3.433549e+02                6.824618e+04   \n",
       "std                  6.705639e+02                3.090412e+05   \n",
       "min                  0.000000e+00                0.000000e+00   \n",
       "25%                  3.360000e+02                0.000000e+00   \n",
       "50%                  3.360000e+02                0.000000e+00   \n",
       "75%                  3.360000e+02                0.000000e+00   \n",
       "max                  1.980800e+05                9.847985e+06   \n",
       "\n",
       "       Fwd Packet Length Mean  Bwd Packet Length Mean  Flow Bytes/s  \\\n",
       "count            1.481599e+06            1.481599e+06  1.481599e+06   \n",
       "mean             1.376860e+01            6.545413e+02  6.105124e+04   \n",
       "std              1.212992e+01            1.334264e+03  1.493670e+05   \n",
       "min              0.000000e+00            0.000000e+00  0.000000e+00   \n",
       "25%              1.344000e+01            0.000000e+00  1.215630e+04   \n",
       "50%              1.400000e+01            0.000000e+00  1.769166e+04   \n",
       "75%              1.527273e+01            0.000000e+00  2.503912e+04   \n",
       "max              6.560000e+02            5.589957e+03  1.356551e+07   \n",
       "\n",
       "       Flow Packets/s  ...  Subflow Fwd Packets  Subflow Fwd Bytes  \\\n",
       "count    1.481599e+06  ...         1.481599e+06       1.481599e+06   \n",
       "mean     1.727112e+03  ...         4.680079e-03       7.171752e+00   \n",
       "std      1.111634e+03  ...         6.825085e-02       1.195790e+01   \n",
       "min      1.670019e-02  ...         0.000000e+00       0.000000e+00   \n",
       "25%      8.884151e+02  ...         0.000000e+00       7.000000e+00   \n",
       "50%      1.742556e+03  ...         0.000000e+00       7.000000e+00   \n",
       "75%      2.550246e+03  ...         0.000000e+00       8.000000e+00   \n",
       "max      4.477612e+04  ...         1.000000e+00       6.560000e+02   \n",
       "\n",
       "       Subflow Bwd Packets  Subflow Bwd Bytes  FWD Init Win Bytes  \\\n",
       "count            1481599.0       1.481599e+06        1.481599e+06   \n",
       "mean                   0.0       3.139562e+02        2.642763e+04   \n",
       "std                    0.0       6.430768e+02        5.568751e+03   \n",
       "min                    0.0       0.000000e+00        0.000000e+00   \n",
       "25%                    0.0       0.000000e+00        2.920000e+04   \n",
       "50%                    0.0       0.000000e+00        2.920000e+04   \n",
       "75%                    0.0       0.000000e+00        2.920000e+04   \n",
       "max                    0.0       2.386000e+03        6.424000e+04   \n",
       "\n",
       "       Bwd Init Win Bytes  Fwd Act Data Pkts  Fwd Seg Size Min   Active Mean  \\\n",
       "count        1.481599e+06       1.481599e+06      1.481599e+06  1.481599e+06   \n",
       "mean         2.261218e+02       1.516230e+01      3.186207e+01  4.276017e+05   \n",
       "std          7.678690e+01       6.958774e+00      1.994747e+00  1.710487e+06   \n",
       "min          0.000000e+00       0.000000e+00      0.000000e+00  0.000000e+00   \n",
       "25%          2.270000e+02       1.300000e+01      3.200000e+01  0.000000e+00   \n",
       "50%          2.270000e+02       1.800000e+01      3.200000e+01  0.000000e+00   \n",
       "75%          2.270000e+02       2.000000e+01      3.200000e+01  0.000000e+00   \n",
       "max          2.920000e+04       3.010000e+02      4.000000e+01  1.122899e+08   \n",
       "\n",
       "          Idle Mean  \n",
       "count  1.481599e+06  \n",
       "mean   1.337903e+06  \n",
       "std    5.483199e+06  \n",
       "min    0.000000e+00  \n",
       "25%    0.000000e+00  \n",
       "50%    0.000000e+00  \n",
       "75%    0.000000e+00  \n",
       "max    1.197591e+08  \n",
       "\n",
       "[8 rows x 53 columns]"
      ]
     },
     "execution_count": 20,
     "metadata": {},
     "output_type": "execute_result"
    }
   ],
   "source": [
    "data.describe()"
   ]
  },
  {
   "cell_type": "code",
   "execution_count": 21,
   "id": "a2c309a6",
   "metadata": {},
   "outputs": [
    {
     "name": "stdout",
     "output_type": "stream",
     "text": [
      "Percentage of data removed:  1.2264 %\n"
     ]
    }
   ],
   "source": [
    "print(\"Percentage of data removed: \", round((1- (1481599/1499995))*100,4), \"%\")"
   ]
  },
  {
   "cell_type": "markdown",
   "id": "7aff6084",
   "metadata": {},
   "source": [
    "# Data Visualization"
   ]
  },
  {
   "cell_type": "code",
   "execution_count": 22,
   "id": "66242f68",
   "metadata": {},
   "outputs": [
    {
     "data": {
      "text/plain": [
       "TCPFlood    1177699\n",
       "BENIGN       303900\n",
       "Name: Label, dtype: int64"
      ]
     },
     "execution_count": 22,
     "metadata": {},
     "output_type": "execute_result"
    }
   ],
   "source": [
    "data[\"Label\"].value_counts()"
   ]
  },
  {
   "cell_type": "code",
   "execution_count": 23,
   "id": "0f9ed807",
   "metadata": {},
   "outputs": [
    {
     "data": {
      "image/png": "[encoded data removed]",
      "text/plain": [
       "<Figure size 432x288 with 1 Axes>"
      ]
     },
     "metadata": {
      "needs_background": "light"
     },
     "output_type": "display_data"
    }
   ],
   "source": [
    "import matplotlib.pyplot as plt\n",
    "\n",
    "# Create a bar chart of the target feature\n",
    "target_counts = data['Label'].value_counts()\n",
    "plt.bar(target_counts.index, target_counts.values)\n",
    "plt.title('Distribution of Target Feature')\n",
    "plt.xlabel('Czlass')\n",
    "plt.ylabel('Count')\n",
    "plt.show()"
   ]
  },
  {
   "cell_type": "code",
   "execution_count": 24,
   "id": "beee2f58",
   "metadata": {},
   "outputs": [
    {
     "data": {
      "image/png": "[encoded data removed]",
      "text/plain": [
       "<Figure size 1800x1800 with 1 Axes>"
      ]
     },
     "metadata": {
      "needs_background": "light"
     },
     "output_type": "display_data"
    }
   ],
   "source": [
    "import pandas as pd\n",
    "import seaborn as sns\n",
    "\n",
    "# Load the data into a pandas DataFrame\n",
    "df = data\n",
    "\n",
    "# Melt the DataFrame to \"long-form\" or \"tidy\" representation\n",
    "df_melt = pd.melt(df, id_vars=['Label'], value_vars=['FIN Flag Count', 'SYN Flag Count', 'RST Flag Count', 'URG Flag Count', 'CWR Flag Count', 'ECE Flag Count'])\n",
    "\n",
    "# Set up the plot size and axes labels as optional parameters\n",
    "def plot_violin(x_axis, y_axis, hue_var, fig_size=(12,8)):\n",
    "    plt.figure(figsize=fig_size)\n",
    "    sns.violinplot(x=x_axis, y=y_axis, hue=hue_var, data=df_melt, split=True, inner=\"quart\")\n",
    "    plt.xlabel(x_axis)\n",
    "    plt.ylabel(y_axis)\n",
    "    plt.show()\n",
    "\n",
    "# Call the function with the desired axis labels and figure size\n",
    "plot_violin(x_axis=\"variable\", y_axis=\"value\", hue_var=\"Label\", fig_size=(25,25))"
   ]
  },
  {
   "cell_type": "code",
   "execution_count": 25,
   "id": "1d5c0850",
   "metadata": {},
   "outputs": [
    {
     "data": {
      "image/png": "[encoded data removed]",
      "text/plain": [
       "<Figure size 360x360 with 1 Axes>"
      ]
     },
     "metadata": {
      "needs_background": "light"
     },
     "output_type": "display_data"
    }
   ],
   "source": [
    "sns.catplot(x='Label', y='Flow Duration', data=data)\n",
    "plt.title('Flow Duration for each class')\n",
    "plt.show()"
   ]
  },
  {
   "cell_type": "code",
   "execution_count": 26,
   "id": "4feef1be",
   "metadata": {},
   "outputs": [
    {
     "data": {
      "image/png": "[encoded data removed]",
      "text/plain": [
       "<Figure size 360x360 with 1 Axes>"
      ]
     },
     "metadata": {
      "needs_background": "light"
     },
     "output_type": "display_data"
    }
   ],
   "source": [
    "sns.catplot(x='Label', y='Active Mean', data=data)\n",
    "plt.title('Active Mean for each class')\n",
    "plt.show()"
   ]
  },
  {
   "cell_type": "code",
   "execution_count": 31,
   "id": "469acb65",
   "metadata": {},
   "outputs": [
    {
     "data": {
      "image/png": "[encoded data removed]",
      "text/plain": [
       "<Figure size 1080x1080 with 1 Axes>"
      ]
     },
     "metadata": {
      "needs_background": "light"
     },
     "output_type": "display_data"
    }
   ],
   "source": [
    "# Group the data by the target variable and the flag variables, and calculate the mean\n",
    "grouped_data = data.groupby(['Label', 'Fwd PSH Flags', 'Fwd URG Flags'])['Label'].count().reset_index(name=\"count\")\n",
    "\n",
    "# Pivot the data to create a table with the flag variables as columns and the mean count as values\n",
    "pivot_data = grouped_data.pivot_table(index='Label', columns=['Fwd PSH Flags', 'Fwd URG Flags'], values='count')\n",
    "\n",
    "# Plot the bar graph\n",
    "ax = pivot_data.plot(kind='bar', figsize=(15,15), legend = False)\n",
    "\n",
    "# Add axis labels and a title\n",
    "ax.set_xlabel('Target Variable')\n",
    "ax.set_ylabel('Count')\n",
    "ax.set_title('Bar Graph of Flags with respect to Target Variable')\n",
    "\n",
    "# Hide the legend\n",
    "ax.legend().set_visible(False)\n",
    "\n",
    "# Zoom in on the plot\n",
    "ax.set_xlim([-0.5, 1.5])\n",
    "ax.set_ylim([0, 100000])\n",
    "\n",
    "# Show the plot\n",
    "plt.show()\n"
   ]
  },
  {
   "cell_type": "code",
   "execution_count": 32,
   "id": "99656320",
   "metadata": {},
   "outputs": [
    {
     "data": {
      "image/png": "[encoded data removed]",
      "text/plain": [
       "<Figure size 720x720 with 1 Axes>"
      ]
     },
     "metadata": {
      "needs_background": "light"
     },
     "output_type": "display_data"
    }
   ],
   "source": [
    "# Group the data by the target variable and the flag variables, and calculate the mean\n",
    "grouped_data = data.groupby(['Label', 'Bwd PSH Flags', 'Bwd URG Flags'])['Label'].count().reset_index(name=\"count\")\n",
    "\n",
    "# Pivot the data to create a table with the flag variables as columns and the mean count as values\n",
    "pivot_data = grouped_data.pivot_table(index='Label', columns=['Bwd PSH Flags', 'Bwd URG Flags'], values='count')\n",
    "\n",
    "# Plot the bar graph\n",
    "ax = pivot_data.plot(kind='bar', figsize=(10,10))\n",
    "\n",
    "# Add axis labels and a title\n",
    "plt.xlabel('Target Variable')\n",
    "plt.ylabel('Count')\n",
    "plt.title('Bar Graph of Flags with respect to Target Variable')\n",
    "\n",
    "# Hide the legend\n",
    "ax.legend().set_visible(False)\n",
    "\n",
    "# Zoom in on the plot\n",
    "ax.set_xlim([-0.5, 1.7])\n",
    "ax.set_ylim([0, 10])\n",
    "\n",
    "# Show the plot\n",
    "plt.show()"
   ]
  },
  {
   "cell_type": "code",
   "execution_count": 33,
   "id": "544051b1",
   "metadata": {},
   "outputs": [
    {
     "data": {
      "image/png": "[encoded data removed]",
      "text/plain": [
       "<Figure size 432x288 with 1 Axes>"
      ]
     },
     "metadata": {
      "needs_background": "light"
     },
     "output_type": "display_data"
    }
   ],
   "source": [
    "sns.scatterplot(data=df, x='Fwd Bytes/Bulk Avg', y='Bwd Packet/Bulk Avg', hue='Label', palette=['red', 'green'])\n",
    "\n",
    "# Add axis labels and a title\n",
    "plt.xlabel('Fwd Bytes/Bulk Avg')\n",
    "plt.ylabel('Bwd Packet/Bulk Avg')\n",
    "plt.title('Scatter Plot of Fwd Bytes/Bulk Avg vs. Bwd Packet/Bulk Avg')\n",
    "\n",
    "# Show the plot\n",
    "plt.show()"
   ]
  },
  {
   "cell_type": "code",
   "execution_count": 34,
   "id": "c9a73e0e",
   "metadata": {},
   "outputs": [
    {
     "data": {
      "image/png": "[encoded data removed]",
      "text/plain": [
       "<Figure size 576x576 with 2 Axes>"
      ]
     },
     "metadata": {
      "needs_background": "light"
     },
     "output_type": "display_data"
    }
   ],
   "source": [
    "# Plot histograms for 'Packet Length Mean' and 'Packet Length Variance'\n",
    "fig, axs = plt.subplots(2, 1, figsize=(8, 8))\n",
    "data['Packet Length Mean'].plot.hist(ax=axs[0], bins=50)\n",
    "data['Packet Length Variance'].plot.hist(ax=axs[1], bins=50)\n",
    "\n",
    "# Add axis labels and a title for the first histogram\n",
    "axs[0].set_xlabel('Packet Length Mean')\n",
    "axs[0].set_ylabel('Frequency')\n",
    "axs[0].set_title('Histogram of Packet Length Mean')\n",
    "\n",
    "# Add axis labels and a title for the second histogram\n",
    "axs[1].set_xlabel('Packet Length Variance')\n",
    "axs[1].set_ylabel('Frequency')\n",
    "axs[1].set_title('Histogram of Packet Length Variance')\n",
    "\n",
    "# Show the plot\n",
    "plt.show()"
   ]
  },
  {
   "cell_type": "markdown",
   "id": "e6337d51",
   "metadata": {},
   "source": [
    "# Feature selection"
   ]
  },
  {
   "cell_type": "code",
   "execution_count": 35,
   "id": "29f8b263",
   "metadata": {},
   "outputs": [],
   "source": [
    "data['Label'] = data['Label'].replace({'BENIGN': 0, 'TCPFlood': 1})"
   ]
  },
  {
   "cell_type": "code",
   "execution_count": 36,
   "id": "9cb96bd1",
   "metadata": {},
   "outputs": [],
   "source": [
    "features = list(data.columns[:52])\n",
    "X = data[features]\n",
    "y = data[\"Label\"]"
   ]
  },
  {
   "cell_type": "code",
   "execution_count": 37,
   "id": "7926b685",
   "metadata": {},
   "outputs": [
    {
     "name": "stdout",
     "output_type": "stream",
     "text": [
      "The top 20 features according to chi2 test are: \n",
      "['Flow Duration', 'Total Length of Bwd Packet', 'Bwd Packet Length Mean', 'Flow Bytes/s', 'Flow IAT Mean', 'Fwd IAT Total', 'Fwd IAT Mean', 'Bwd IAT Total', 'Bwd IAT Mean', 'Bwd Header Length', 'Packet Length Mean', 'Packet Length Variance', 'Average Packet Size', 'Bwd Segment Size Avg', 'Fwd Bulk Rate Avg', 'Bwd Bytes/Bulk Avg', 'Bwd Bulk Rate Avg', 'Subflow Bwd Bytes', 'FWD Init Win Bytes', 'Active Mean']\n"
     ]
    }
   ],
   "source": [
    "from sklearn.feature_selection import SelectKBest, chi2\n",
    "\n",
    "selector = SelectKBest(chi2, k=20)\n",
    "selector.fit(X, y)\n",
    "\n",
    "X_new = selector.transform(X)\n",
    "print(\"The top 20 features according to chi2 test are: \")\n",
    "print(data.columns[selector.get_support(indices=True)].tolist())"
   ]
  },
  {
   "cell_type": "code",
   "execution_count": 38,
   "id": "864ba5b2",
   "metadata": {
    "scrolled": true
   },
   "outputs": [
    {
     "name": "stderr",
     "output_type": "stream",
     "text": [
      "C:\\Users\\Kaiwalya\\Anaconda3\\envs\\py38\\lib\\site-packages\\sklearn\\feature_selection\\_univariate_selection.py:112: UserWarning: Features [17 18 30 31 32 45] are constant.\n",
      "  warnings.warn(\"Features %s are constant.\" % constant_features_idx, UserWarning)\n",
      "C:\\Users\\Kaiwalya\\Anaconda3\\envs\\py38\\lib\\site-packages\\sklearn\\feature_selection\\_univariate_selection.py:113: RuntimeWarning: invalid value encountered in divide\n",
      "  f = msb / msw\n"
     ]
    },
    {
     "name": "stdout",
     "output_type": "stream",
     "text": [
      "The top 20 features according by computing the ANOVA F-value are: \n",
      "['Flow Duration', 'Bwd Packet Length Mean', 'Flow Bytes/s', 'Flow Packets/s', 'Bwd IAT Total', 'Fwd PSH Flags', 'Fwd Packets/s', 'Bwd Packets/s', 'Packet Length Mean', 'Packet Length Variance', 'Average Packet Size', 'Bwd Segment Size Avg', 'Fwd Bytes/Bulk Avg', 'Fwd Packet/Bulk Avg', 'Fwd Bulk Rate Avg', 'Bwd Bulk Rate Avg', 'Subflow Bwd Bytes', 'FWD Init Win Bytes', 'Fwd Act Data Pkts', 'Active Mean']\n"
     ]
    }
   ],
   "source": [
    "# Feature importance just for the sake of understanding how important F20 is, and it turns out to be not so important\n",
    "from sklearn.feature_selection import SelectKBest\n",
    "from sklearn.feature_selection import f_classif\n",
    "import numpy as np\n",
    "\n",
    "\n",
    "selector = SelectKBest(f_classif, k=20)\n",
    "selector.fit(X, y)\n",
    "\n",
    "X_new = selector.transform(X)\n",
    "print(\"The top 20 features according by computing the ANOVA F-value are: \")\n",
    "print(data.columns[selector.get_support(indices=True)].tolist())\n",
    "nfeatures = data.columns[selector.get_support(indices=True)].tolist()\n",
    "X = X[nfeatures]"
   ]
  },
  {
   "cell_type": "markdown",
   "id": "f286ac01",
   "metadata": {},
   "source": [
    "# Model Training"
   ]
  },
  {
   "cell_type": "code",
   "execution_count": 39,
   "id": "93376a46",
   "metadata": {},
   "outputs": [],
   "source": [
    "from sklearn.model_selection import train_test_split\n",
    "X_train, X_test, y_train, y_test = train_test_split(X, y, test_size=0.25, random_state=42)"
   ]
  },
  {
   "cell_type": "code",
   "execution_count": 40,
   "id": "8ad80733",
   "metadata": {},
   "outputs": [
    {
     "data": {
      "image/png": "[encoded data removed]",
      "text/plain": [
       "<Figure size 576x396 with 1 Axes>"
      ]
     },
     "metadata": {},
     "output_type": "display_data"
    },
    {
     "data": {
      "text/plain": [
       "<AxesSubplot:title={'center':'Class Balance for 1,481,599 Instances'}, ylabel='support'>"
      ]
     },
     "execution_count": 40,
     "metadata": {},
     "output_type": "execute_result"
    }
   ],
   "source": [
    "from yellowbrick.target import ClassBalance\n",
    "# Instantiate the visualizer\n",
    "visualizer = ClassBalance(labels=[\"BENIGN\", \"TCPFlood\"])\n",
    "\n",
    "visualizer.fit(y)        # Fit the data to the visualizer\n",
    "visualizer.show()        # Finalize and render the figure"
   ]
  },
  {
   "cell_type": "code",
   "execution_count": 41,
   "id": "e37bdc5c",
   "metadata": {},
   "outputs": [],
   "source": [
    "from sklearn.metrics import accuracy_score\n",
    "from sklearn.metrics import classification_report\n",
    "from sklearn.metrics import confusion_matrix, ConfusionMatrixDisplay\n",
    "import matplotlib.pyplot as plt\n",
    "from sklearn.metrics import f1_score\n",
    "from sklearn.metrics import roc_auc_score"
   ]
  },
  {
   "cell_type": "markdown",
   "id": "f00e2d47",
   "metadata": {},
   "source": [
    "##### Decision Tree"
   ]
  },
  {
   "cell_type": "code",
   "execution_count": 42,
   "id": "0a1c9498",
   "metadata": {},
   "outputs": [],
   "source": [
    "from sklearn import tree\n",
    "\n",
    "clf4 = tree.DecisionTreeClassifier(min_samples_split = 20, criterion = 'entropy')\n",
    "clf4 = clf4.fit(X_train, y_train)\n",
    "pred4 = clf4.predict(X_test)"
   ]
  },
  {
   "cell_type": "code",
   "execution_count": 43,
   "id": "659efc29",
   "metadata": {},
   "outputs": [
    {
     "name": "stdout",
     "output_type": "stream",
     "text": [
      "0.999854211663067\n",
      "              precision    recall  f1-score   support\n",
      "\n",
      "           0       1.00      1.00      1.00     75457\n",
      "           1       1.00      1.00      1.00    294943\n",
      "\n",
      "    accuracy                           1.00    370400\n",
      "   macro avg       1.00      1.00      1.00    370400\n",
      "weighted avg       1.00      1.00      1.00    370400\n",
      "\n",
      "0.9999084559571437\n",
      "0.9997901117444296\n"
     ]
    }
   ],
   "source": [
    "print(accuracy_score(y_test, pred4))\n",
    "print(classification_report(y_test, pred4))\n",
    "print(f1_score(y_test, pred4))\n",
    "print(roc_auc_score(y_test, pred4))"
   ]
  },
  {
   "cell_type": "code",
   "execution_count": 44,
   "id": "a828cfd2",
   "metadata": {},
   "outputs": [
    {
     "data": {
      "image/png": "[encoded data removed]",
      "text/plain": [
       "<Figure size 576x396 with 2 Axes>"
      ]
     },
     "metadata": {},
     "output_type": "display_data"
    }
   ],
   "source": [
    "cm = confusion_matrix(y_test, pred4, labels=clf4.classes_)\n",
    "disp = ConfusionMatrixDisplay(confusion_matrix=cm,\n",
    "                              display_labels=clf4.classes_)\n",
    "disp.plot()\n",
    "\n",
    "plt.show()"
   ]
  },
  {
   "cell_type": "markdown",
   "id": "b36b6058",
   "metadata": {},
   "source": [
    "###### Logistic Regression"
   ]
  },
  {
   "cell_type": "code",
   "execution_count": 45,
   "id": "39a73970",
   "metadata": {},
   "outputs": [],
   "source": [
    "from sklearn.linear_model import LogisticRegression\n",
    "clf2 = LogisticRegression(random_state=0, class_weight = 'balanced', max_iter = 10000).fit(X_train, y_train)\n",
    "pred2 = clf2.predict(X_test)"
   ]
  },
  {
   "cell_type": "code",
   "execution_count": 46,
   "id": "cfca59bf",
   "metadata": {},
   "outputs": [
    {
     "name": "stdout",
     "output_type": "stream",
     "text": [
      "0.9998974082073434\n",
      "              precision    recall  f1-score   support\n",
      "\n",
      "           0       1.00      1.00      1.00     75457\n",
      "           1       1.00      1.00      1.00    294943\n",
      "\n",
      "    accuracy                           1.00    370400\n",
      "   macro avg       1.00      1.00      1.00    370400\n",
      "weighted avg       1.00      1.00      1.00    370400\n",
      "\n",
      "0.999935581428465\n",
      "0.9998270977247044\n"
     ]
    }
   ],
   "source": [
    "print(accuracy_score(y_test, pred2))\n",
    "print(classification_report(y_test, pred2))\n",
    "print(f1_score(y_test, pred2))\n",
    "print(roc_auc_score(y_test, pred2))"
   ]
  },
  {
   "cell_type": "code",
   "execution_count": 47,
   "id": "cd9f2049",
   "metadata": {},
   "outputs": [
    {
     "data": {
      "image/png": "[encoded data removed]",
      "text/plain": [
       "<Figure size 576x396 with 2 Axes>"
      ]
     },
     "metadata": {},
     "output_type": "display_data"
    }
   ],
   "source": [
    "cm = confusion_matrix(y_test, pred2, labels=clf2.classes_)\n",
    "disp = ConfusionMatrixDisplay(confusion_matrix=cm,\n",
    "                              display_labels=clf2.classes_)\n",
    "disp.plot()\n",
    "\n",
    "plt.show()"
   ]
  },
  {
   "cell_type": "markdown",
   "id": "44a492a8",
   "metadata": {},
   "source": [
    "##### KNN"
   ]
  },
  {
   "cell_type": "code",
   "execution_count": 48,
   "id": "37fbd215",
   "metadata": {},
   "outputs": [],
   "source": [
    "from sklearn.neighbors import KNeighborsClassifier\n",
    "neigh = KNeighborsClassifier(n_neighbors=3)\n",
    "neigh.fit(X_train, y_train)\n",
    "\n",
    "pred3 = neigh.predict(X_test)"
   ]
  },
  {
   "cell_type": "code",
   "execution_count": 49,
   "id": "08682fdc",
   "metadata": {},
   "outputs": [
    {
     "name": "stdout",
     "output_type": "stream",
     "text": [
      "0.9998947084233262\n",
      "              precision    recall  f1-score   support\n",
      "\n",
      "           0       1.00      1.00      1.00     75457\n",
      "           1       1.00      1.00      1.00    294943\n",
      "\n",
      "    accuracy                           1.00    370400\n",
      "   macro avg       1.00      1.00      1.00    370400\n",
      "weighted avg       1.00      1.00      1.00    370400\n",
      "\n",
      "0.9999338863149758\n",
      "0.9998204714342344\n"
     ]
    }
   ],
   "source": [
    "print(accuracy_score(y_test, pred3))\n",
    "print(classification_report(y_test, pred3))\n",
    "print(f1_score(y_test, pred3))\n",
    "print(roc_auc_score(y_test, pred3))"
   ]
  },
  {
   "cell_type": "code",
   "execution_count": 50,
   "id": "65814641",
   "metadata": {
    "scrolled": true
   },
   "outputs": [
    {
     "data": {
      "image/png": "[encoded data removed]",
      "text/plain": [
       "<Figure size 576x396 with 2 Axes>"
      ]
     },
     "metadata": {},
     "output_type": "display_data"
    }
   ],
   "source": [
    "cm = confusion_matrix(y_test, pred3, labels=clf2.classes_)\n",
    "disp = ConfusionMatrixDisplay(confusion_matrix=cm,\n",
    "                              display_labels=clf2.classes_)\n",
    "disp.plot()\n",
    "\n",
    "plt.show()"
   ]
  },
  {
   "cell_type": "markdown",
   "id": "18dd35df",
   "metadata": {},
   "source": [
    "# Evaluation"
   ]
  },
  {
   "cell_type": "code",
   "execution_count": 51,
   "id": "bba04d15",
   "metadata": {},
   "outputs": [],
   "source": [
    "evaluation_dict = {'Decision Trees':[accuracy_score(y_test, pred4),f1_score(y_test, pred4),roc_auc_score(y_test, pred4)], \\\n",
    "                   'Logistic Regression':[accuracy_score(y_test, pred2),f1_score(y_test, pred2),roc_auc_score(y_test, pred2)], \\\n",
    "                   'KNN':[accuracy_score(y_test, pred3),f1_score(y_test, pred3),roc_auc_score(y_test, pred3)]}"
   ]
  },
  {
   "cell_type": "code",
   "execution_count": 52,
   "id": "94e343d9",
   "metadata": {},
   "outputs": [],
   "source": [
    "n = pd.DataFrame.from_dict(evaluation_dict, orient='index')\n",
    "n = n.rename(columns={0: \"Accuracy\", 1: \"F1 Score\", 2: \"AUC ROC Score\"})"
   ]
  },
  {
   "cell_type": "code",
   "execution_count": 53,
   "id": "ec8a05a6",
   "metadata": {},
   "outputs": [
    {
     "data": {
      "text/html": [
       "<div>\n",
       "<style scoped>\n",
       "    .dataframe tbody tr th:only-of-type {\n",
       "        vertical-align: middle;\n",
       "    }\n",
       "\n",
       "    .dataframe tbody tr th {\n",
       "        vertical-align: top;\n",
       "    }\n",
       "\n",
       "    .dataframe thead th {\n",
       "        text-align: right;\n",
       "    }\n",
       "</style>\n",
       "<table border=\"1\" class=\"dataframe\">\n",
       "  <thead>\n",
       "    <tr style=\"text-align: right;\">\n",
       "      <th></th>\n",
       "      <th>Accuracy</th>\n",
       "      <th>F1 Score</th>\n",
       "      <th>AUC ROC Score</th>\n",
       "    </tr>\n",
       "  </thead>\n",
       "  <tbody>\n",
       "    <tr>\n",
       "      <th>Decision Trees</th>\n",
       "      <td>0.999854</td>\n",
       "      <td>0.999908</td>\n",
       "      <td>0.999790</td>\n",
       "    </tr>\n",
       "    <tr>\n",
       "      <th>Logistic Regression</th>\n",
       "      <td>0.999897</td>\n",
       "      <td>0.999936</td>\n",
       "      <td>0.999827</td>\n",
       "    </tr>\n",
       "    <tr>\n",
       "      <th>KNN</th>\n",
       "      <td>0.999895</td>\n",
       "      <td>0.999934</td>\n",
       "      <td>0.999820</td>\n",
       "    </tr>\n",
       "  </tbody>\n",
       "</table>\n",
       "</div>"
      ],
      "text/plain": [
       "                     Accuracy  F1 Score  AUC ROC Score\n",
       "Decision Trees       0.999854  0.999908       0.999790\n",
       "Logistic Regression  0.999897  0.999936       0.999827\n",
       "KNN                  0.999895  0.999934       0.999820"
      ]
     },
     "execution_count": 53,
     "metadata": {},
     "output_type": "execute_result"
    }
   ],
   "source": [
    "n"
   ]
  },
  {
   "cell_type": "code",
   "execution_count": 54,
   "id": "0524aa17",
   "metadata": {},
   "outputs": [
    {
     "data": {
      "image/png": "[encoded data removed]",
      "text/plain": [
       "<Figure size 614.5x504 with 1 Axes>"
      ]
     },
     "metadata": {},
     "output_type": "display_data"
    }
   ],
   "source": [
    "import seaborn as sns\n",
    "import matplotlib.pyplot as plt\n",
    "\n",
    "datax = {'Model': list(n.index),\n",
    "        'Accuracy': list(n[\"Accuracy\"]),\n",
    "        'F1 Score': list(n[\"F1 Score\"]),\n",
    "       'AUC ROC Score' : list(n[\"AUC ROC Score\"])}\n",
    "\n",
    "df = pd.DataFrame(datax)\n",
    "\n",
    "# Set the style\n",
    "sns.set_style(\"whitegrid\")\n",
    "\n",
    "\n",
    "# Melt the DataFrame to long format\n",
    "df_melt = df.melt(id_vars='Model', var_name='Metric', value_name='Score')\n",
    "\n",
    "# Plot the cat plot\n",
    "sns.catplot(x='Model', y='Score', hue='Metric', kind='bar', data=df_melt, palette='pastel', height = 7)\n",
    "\n",
    "# Add a title and axis labels\n",
    "plt.title('Model Performance Comparison')\n",
    "plt.xlabel('Model')\n",
    "plt.ylabel('Score')\n",
    "\n",
    "# Show the plot\n",
    "plt.show()"
   ]
  },
  {
   "cell_type": "code",
   "execution_count": null,
   "id": "ac2918b7",
   "metadata": {},
   "outputs": [],
   "source": []
  }
 ],
 "metadata": {
  "kernelspec": {
   "display_name": "Python 3 (ipykernel)",
   "language": "python",
   "name": "python3"
  },
  "language_info": {
   "codemirror_mode": {
    "name": "ipython",
    "version": 3
   },
   "file_extension": ".py",
   "mimetype": "text/x-python",
   "name": "python",
   "nbconvert_exporter": "python",
   "pygments_lexer": "ipython3",
   "version": "3.8.13"
  }
 },
 "nbformat": 4,
 "nbformat_minor": 5
}
